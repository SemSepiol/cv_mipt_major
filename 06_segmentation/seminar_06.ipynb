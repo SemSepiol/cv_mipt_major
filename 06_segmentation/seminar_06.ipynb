{
 "cells": [
  {
   "cell_type": "markdown",
   "metadata": {},
   "source": [
    "# Семинар №6 - Вопросы сегментации изображений"
   ]
  },
  {
   "cell_type": "code",
   "execution_count": null,
   "metadata": {
    "ExecuteTime": {
     "end_time": "2021-03-29T12:38:24.336438Z",
     "start_time": "2021-03-29T12:38:24.302577Z"
    }
   },
   "outputs": [],
   "source": [
    "import cv2\n",
    "import numpy as np\n",
    "import sklearn\n",
    "import skimage.segmentation\n",
    "from sklearn.feature_extraction.image import grid_to_graph\n",
    "from sklearn.cluster import AgglomerativeClustering\n",
    "import skimage.io\n",
    "\n",
    "import matplotlib.pyplot as plt\n",
    "\n",
    "import time as time\n",
    "import scipy as sp"
   ]
  },
  {
   "cell_type": "code",
   "execution_count": null,
   "metadata": {
    "ExecuteTime": {
     "end_time": "2021-03-29T12:38:24.772762Z",
     "start_time": "2021-03-29T12:38:24.751347Z"
    }
   },
   "outputs": [],
   "source": [
    "# вспомогательная функция\n",
    "def plot_one_image(src_image, is_gray=False):\n",
    "    \"\"\"\n",
    "    Отрисовать с помощью plt исходное изображение.\n",
    "    \n",
    "    :param src_image: np.ndarray: исходное изображение\n",
    "    :param is_gray: bool: флаг для отображения ЧБ изображений\n",
    "    :return: None\n",
    "    \"\"\"\n",
    "    fig, m_axs = plt.subplots(1, 1, figsize=(6.4*2, 4.8*2), constrained_layout=False)\n",
    "    ax1 = m_axs\n",
    "\n",
    "    cmap = 'gray' if is_gray else None\n",
    "    ax1.set_title('Исходное изображение')\n",
    "    ax1.imshow(src_image, cmap=cmap)\n",
    "    ax1.set_xticks([]), ax1.set_yticks([])\n",
    "    plt.show()"
   ]
  },
  {
   "cell_type": "code",
   "execution_count": null,
   "metadata": {
    "ExecuteTime": {
     "end_time": "2021-03-29T12:38:26.566094Z",
     "start_time": "2021-03-29T12:38:26.555902Z"
    }
   },
   "outputs": [],
   "source": [
    "# вспомогательная функция\n",
    "def plot_transform_result(src_image, transform_image, is_gray=False):\n",
    "    \"\"\"\n",
    "    Отрисовать с помощью plt исходное изображение и его преобразование.\n",
    "    \n",
    "    :param src_image: np.ndarray: исходное изображение\n",
    "    :param transform_image: np.ndarray: преобразованное изображение\n",
    "    :param is_gray: bool: флаг для отображения ЧБ изображений\n",
    "    :return: None\n",
    "    \"\"\"\n",
    "    fig, m_axs = plt.subplots(1, 2, figsize=(6.4*2, 4.8*2), constrained_layout=False)\n",
    "    ax1, ax2 = m_axs\n",
    "\n",
    "    cmap = 'gray' if is_gray else None\n",
    "    ax1.set_title('Исходное изображение')\n",
    "    ax1.imshow(src_image, cmap=cmap)\n",
    "    ax1.set_xticks([]), ax1.set_yticks([])\n",
    "    ax2.set_title('Результат преобразования')\n",
    "    ax2.imshow(transform_image, cmap=cmap)\n",
    "    ax2.set_xticks([]), ax2.set_yticks([])\n",
    "    plt.show()"
   ]
  },
  {
   "cell_type": "markdown",
   "metadata": {},
   "source": [
    "# Вспомним про kNN "
   ]
  },
  {
   "cell_type": "code",
   "execution_count": null,
   "metadata": {
    "ExecuteTime": {
     "end_time": "2021-03-29T12:42:28.083106Z",
     "start_time": "2021-03-29T12:42:28.021814Z"
    }
   },
   "outputs": [],
   "source": [
    "# Generate data\n",
    "image = skimage.io.imread('img/cat.jpg')\n",
    "image = skimage.transform.resize(image, tuple(map(int, np.array(image.shape[:2])/2)))\n",
    "X = np.reshape(image, (-1, 1))"
   ]
  },
  {
   "cell_type": "code",
   "execution_count": null,
   "metadata": {
    "ExecuteTime": {
     "end_time": "2021-03-29T12:42:28.426767Z",
     "start_time": "2021-03-29T12:42:28.410797Z"
    }
   },
   "outputs": [],
   "source": [
    "X.shape"
   ]
  },
  {
   "cell_type": "code",
   "execution_count": null,
   "metadata": {
    "ExecuteTime": {
     "end_time": "2021-03-29T12:42:29.054291Z",
     "start_time": "2021-03-29T12:42:28.615771Z"
    }
   },
   "outputs": [],
   "source": [
    "plot_one_image(image)"
   ]
  },
  {
   "cell_type": "code",
   "execution_count": null,
   "metadata": {
    "ExecuteTime": {
     "end_time": "2021-03-29T12:43:12.990094Z",
     "start_time": "2021-03-29T12:43:04.987236Z"
    }
   },
   "outputs": [],
   "source": [
    "n_clusters = 3  # number of regions\n",
    "kmeans = sklearn.cluster.KMeans(n_clusters=n_clusters, n_init=40, max_iter=500).fit(X)\n",
    "label = np.reshape(kmeans.labels_, image.shape)"
   ]
  },
  {
   "cell_type": "code",
   "execution_count": null,
   "metadata": {
    "ExecuteTime": {
     "end_time": "2021-03-29T12:43:15.033815Z",
     "start_time": "2021-03-29T12:43:14.347310Z"
    }
   },
   "outputs": [],
   "source": [
    "# Plot the results on an image\n",
    "cmap = plt.cm.get_cmap('Spectral', n_clusters)\n",
    "rgba = cmap(np.linspace(0, 1, n_clusters))\n",
    "\n",
    "plt.figure(figsize=(6.4*2, 4.8*2), constrained_layout=False)\n",
    "plt.imshow(image, cmap=plt.cm.gray)\n",
    "for l in range(n_clusters):\n",
    "    tmp = label == l\n",
    "    plt.contour(tmp[:, :, 0], contours=1,\n",
    "               colors=[rgba[l]])\n",
    "plt.xticks(())\n",
    "plt.yticks(())\n",
    "plt.show()"
   ]
  },
  {
   "cell_type": "markdown",
   "metadata": {},
   "source": [
    "## Разница в представлении кодировки цвета"
   ]
  },
  {
   "cell_type": "code",
   "execution_count": null,
   "metadata": {
    "ExecuteTime": {
     "end_time": "2021-03-29T12:46:02.333454Z",
     "start_time": "2021-03-29T12:46:02.315816Z"
    }
   },
   "outputs": [],
   "source": [
    "image_ = skimage.color.rgb2hsv(image)\n",
    "X = np.reshape(image_[:, :, 0], (-1, 1))"
   ]
  },
  {
   "cell_type": "code",
   "execution_count": null,
   "metadata": {
    "ExecuteTime": {
     "end_time": "2021-03-29T12:46:04.543507Z",
     "start_time": "2021-03-29T12:46:02.843088Z"
    },
    "scrolled": true
   },
   "outputs": [],
   "source": [
    "n_clusters = 3  # number of regions\n",
    "kmeans = sklearn.cluster.KMeans(n_clusters=n_clusters, init='k-means++', \n",
    "                                n_init=40, algorithm='elkan',\n",
    "                                max_iter=1000, n_jobs=-1).fit(X)\n",
    "label = np.reshape(kmeans.labels_, image[:, :, 0].shape)"
   ]
  },
  {
   "cell_type": "code",
   "execution_count": null,
   "metadata": {
    "ExecuteTime": {
     "end_time": "2021-03-29T12:46:07.137870Z",
     "start_time": "2021-03-29T12:46:06.637617Z"
    }
   },
   "outputs": [],
   "source": [
    "# Plot the results on an image\n",
    "cmap = plt.cm.get_cmap('Spectral', n_clusters)\n",
    "rgba = cmap(np.linspace(0, 1, n_clusters))\n",
    "\n",
    "plt.figure(figsize=(6.4*2, 4.8*2), constrained_layout=False)\n",
    "plt.imshow(image, cmap=plt.cm.gray)\n",
    "for l in range(n_clusters):\n",
    "    tmp = label == l\n",
    "    plt.contour(tmp[:, :], contours=1,\n",
    "               colors=[rgba[l]])\n",
    "plt.xticks(())\n",
    "plt.yticks(())\n",
    "plt.show()"
   ]
  },
  {
   "cell_type": "markdown",
   "metadata": {},
   "source": [
    "# Agglomerative clustering"
   ]
  },
  {
   "cell_type": "code",
   "execution_count": null,
   "metadata": {
    "ExecuteTime": {
     "end_time": "2021-03-29T12:49:20.693535Z",
     "start_time": "2021-03-29T12:49:20.654267Z"
    }
   },
   "outputs": [],
   "source": [
    "# Generate data\n",
    "image = skimage.io.imread('img/cat.jpg')\n",
    "image = skimage.transform.resize(image, tuple(map(int, np.array(image.shape[:2])/2)))\n",
    "X = np.reshape(image, (-1, 1))"
   ]
  },
  {
   "cell_type": "markdown",
   "metadata": {},
   "source": [
    "## Algo"
   ]
  },
  {
   "cell_type": "code",
   "execution_count": null,
   "metadata": {
    "ExecuteTime": {
     "end_time": "2021-03-29T12:49:50.658639Z",
     "start_time": "2021-03-29T12:49:21.573777Z"
    }
   },
   "outputs": [],
   "source": [
    "# Define the structure A of the data. Pixels connected to their neighbors.\n",
    "connectivity = grid_to_graph(*image.shape)\n",
    "\n",
    "# Compute clustering\n",
    "print(\"Compute structured hierarchical clustering...\")\n",
    "st = time.time()\n",
    "ward = AgglomerativeClustering(n_clusters=3,\n",
    "        linkage='ward', connectivity=connectivity, distance_threshold=None).fit(X)\n",
    "\n",
    "label = np.reshape(ward.labels_, image.shape)\n",
    "print(\"Elapsed time: \", time.time() - st)\n",
    "print(\"Number of pixels: \", label.size)\n",
    "print(\"Number of clusters: \", np.unique(label).size)"
   ]
  },
  {
   "cell_type": "markdown",
   "metadata": {},
   "source": [
    "## Plot clustering result"
   ]
  },
  {
   "cell_type": "code",
   "execution_count": null,
   "metadata": {
    "ExecuteTime": {
     "end_time": "2021-03-29T12:51:26.530642Z",
     "start_time": "2021-03-29T12:51:26.020081Z"
    }
   },
   "outputs": [],
   "source": [
    "# Plot the results on an image\n",
    "cmap = plt.cm.get_cmap('Spectral', np.unique(label).size)\n",
    "rgba = cmap(np.linspace(0, 1, np.unique(label).size))\n",
    "\n",
    "plt.figure(figsize=(6.4*2, 4.8*2), constrained_layout=False)\n",
    "plt.imshow(image, cmap=plt.cm.gray)\n",
    "for l in range(np.unique(label).size):\n",
    "    tmp = label == l\n",
    "    plt.contour(tmp[:, :, 0], contours=1,\n",
    "               colors=[rgba[l]])\n",
    "plt.xticks(())\n",
    "plt.yticks(())\n",
    "plt.show()"
   ]
  },
  {
   "cell_type": "markdown",
   "metadata": {},
   "source": [
    "# Mean-shift clustering"
   ]
  },
  {
   "cell_type": "code",
   "execution_count": null,
   "metadata": {
    "ExecuteTime": {
     "end_time": "2021-03-29T11:46:27.146873Z",
     "start_time": "2021-03-29T11:46:27.093660Z"
    }
   },
   "outputs": [],
   "source": [
    "# Generate data\n",
    "image = skimage.io.imread('img/cat.jpg')\n",
    "image = skimage.transform.resize(image, tuple(map(int, np.array(image.shape[:2])/2)))"
   ]
  },
  {
   "cell_type": "markdown",
   "metadata": {},
   "source": [
    "## Algo"
   ]
  },
  {
   "cell_type": "code",
   "execution_count": null,
   "metadata": {
    "ExecuteTime": {
     "end_time": "2021-03-29T11:46:42.423792Z",
     "start_time": "2021-03-29T11:46:33.102650Z"
    }
   },
   "outputs": [],
   "source": [
    "label = skimage.segmentation.quickshift(image, kernel_size=20, max_dist=6,\n",
    "                                                 ratio=0.5,\n",
    "                                                 convert2lab=False)"
   ]
  },
  {
   "cell_type": "code",
   "execution_count": null,
   "metadata": {
    "ExecuteTime": {
     "end_time": "2021-03-29T11:47:37.536736Z",
     "start_time": "2021-03-29T11:47:37.525521Z"
    }
   },
   "outputs": [],
   "source": [
    "n_clusters = np.unique(label).max()\n",
    "print(n_clusters)"
   ]
  },
  {
   "cell_type": "markdown",
   "metadata": {},
   "source": [
    "## Plot clustering result"
   ]
  },
  {
   "cell_type": "code",
   "execution_count": null,
   "metadata": {
    "ExecuteTime": {
     "end_time": "2021-03-29T11:47:39.225464Z",
     "start_time": "2021-03-29T11:47:38.445209Z"
    }
   },
   "outputs": [],
   "source": [
    "# Plot the results on an image\n",
    "cmap = plt.cm.get_cmap('Spectral', n_clusters)\n",
    "rgba = cmap(np.linspace(0, 1, n_clusters))\n",
    "\n",
    "plt.figure(figsize=(6.4*2, 4.8*2), constrained_layout=False)\n",
    "plt.imshow(image, cmap=plt.cm.gray)\n",
    "for l in range(n_clusters):\n",
    "    tmp = label == l\n",
    "    plt.contour(tmp[:, :], contours=1,\n",
    "               colors=[rgba[l]])\n",
    "plt.xticks(())\n",
    "plt.yticks(())\n",
    "plt.show()"
   ]
  },
  {
   "cell_type": "markdown",
   "metadata": {},
   "source": [
    "## Felzenszwalb algo"
   ]
  },
  {
   "cell_type": "code",
   "execution_count": null,
   "metadata": {
    "ExecuteTime": {
     "end_time": "2021-03-29T12:59:07.175947Z",
     "start_time": "2021-03-29T12:59:07.076540Z"
    }
   },
   "outputs": [],
   "source": [
    "label = skimage.segmentation.felzenszwalb(image, scale=100, sigma=0.5, min_size=50)"
   ]
  },
  {
   "cell_type": "code",
   "execution_count": null,
   "metadata": {
    "ExecuteTime": {
     "end_time": "2021-03-29T12:59:13.711375Z",
     "start_time": "2021-03-29T12:59:07.591200Z"
    }
   },
   "outputs": [],
   "source": [
    "n_clusters = np.unique(label).max()\n",
    "\n",
    "# Plot the results on an image\n",
    "cmap = plt.cm.get_cmap('Spectral', n_clusters)\n",
    "rgba = cmap(np.linspace(0, 1, n_clusters))\n",
    "\n",
    "plt.figure(figsize=(6.4*2, 4.8*2), constrained_layout=False)\n",
    "plt.imshow(image, cmap=plt.cm.gray)\n",
    "for l in range(n_clusters):\n",
    "    tmp = label == l\n",
    "    plt.contour(tmp[:, :], contours=1,\n",
    "               colors=[rgba[l]])\n",
    "plt.xticks(())\n",
    "plt.yticks(())\n",
    "plt.show()"
   ]
  },
  {
   "cell_type": "markdown",
   "metadata": {},
   "source": [
    "# Метрики для сегментации задачи\n",
    "\n",
    "Есть 2 способа кодировать предсказания в масках.\n",
    "\n",
    "1. Предсказание для каждого класса записывать в отдельный канал предсказания. Если классов С, а размер исходного изображения H, W, то предсказание будет размера (H, W, C), где каждый канал (бинарный) означает результат классификации для каждого класса С.\n",
    "\n",
    "2. Предсказание для каждого класса записывается в виде целого числа в один канал. Если классов С, а размер исходного изображения H, W, то предсказание будет размера (H, W), где значения предсказаний лежат в диапазоне [0, C].\n",
    "\n",
    "Дальше мы будем придерживаться первого способа кодирования результата сегментации."
   ]
  },
  {
   "cell_type": "code",
   "execution_count": null,
   "metadata": {
    "ExecuteTime": {
     "end_time": "2021-03-29T13:01:22.865422Z",
     "start_time": "2021-03-29T13:01:22.853773Z"
    }
   },
   "outputs": [],
   "source": [
    "# смоделируем пример маски сегментации после алгоритма\n",
    "\n",
    "true_mask = np.zeros((400, 400, 3))  # истинная маска\n",
    "true_mask[50:100, 30:370] = 1\n",
    "\n",
    "pred_mask = np.zeros((400, 400, 3))  # предсказанная маска \n",
    "pred_mask[20:60, :] = 1"
   ]
  },
  {
   "cell_type": "code",
   "execution_count": null,
   "metadata": {
    "ExecuteTime": {
     "end_time": "2021-03-29T13:01:24.116649Z",
     "start_time": "2021-03-29T13:01:23.932422Z"
    }
   },
   "outputs": [],
   "source": [
    "# отобразим\n",
    "plot_transform_result(true_mask, pred_mask)"
   ]
  },
  {
   "cell_type": "markdown",
   "metadata": {},
   "source": [
    "## Dice метрика"
   ]
  },
  {
   "cell_type": "code",
   "execution_count": null,
   "metadata": {
    "ExecuteTime": {
     "end_time": "2021-03-29T13:03:41.208385Z",
     "start_time": "2021-03-29T13:03:41.199328Z"
    },
    "code_folding": []
   },
   "outputs": [],
   "source": [
    "def dice_channel(probability, truth, threshold):\n",
    "    # \n",
    "    batch_size = truth.shape[0]\n",
    "    channel_num = truth.shape[3]\n",
    "    mean_dice_channel = 0.\n",
    "    all_channels = []\n",
    "    for i in range(batch_size):\n",
    "        for j in range(channel_num):\n",
    "            channel_dice = dice_single_channel(probability[i, :, :, j], truth[i, :, :, j], threshold)\n",
    "            all_channels.append(channel_dice)\n",
    "            mean_dice_channel += channel_dice/(batch_size * channel_num)\n",
    "    return mean_dice_channel, all_channels\n",
    "\n",
    "\n",
    "def dice_single_channel(probability, truth, threshold, eps=1E-9):\n",
    "    # \n",
    "    t = (truth.flatten() > 0.5)\n",
    "    p = (probability.flatten() > threshold)\n",
    "    dice = (2.0 * (p * t).sum() + eps) / (p.sum() + t.sum() + eps)\n",
    "    return dice"
   ]
  },
  {
   "cell_type": "code",
   "execution_count": null,
   "metadata": {
    "ExecuteTime": {
     "end_time": "2021-03-29T13:03:41.566349Z",
     "start_time": "2021-03-29T13:03:41.532155Z"
    }
   },
   "outputs": [],
   "source": [
    "mean_dice, all_dice = dice_channel(np.array([pred_mask]), np.array([true_mask]), 0.5)\n",
    "\n",
    "print('Mean Dice:', mean_dice)\n",
    "print('Dice per channel:', all_dice)"
   ]
  },
  {
   "cell_type": "markdown",
   "metadata": {},
   "source": [
    "## Jaccard score"
   ]
  },
  {
   "cell_type": "code",
   "execution_count": null,
   "metadata": {
    "ExecuteTime": {
     "end_time": "2021-03-29T13:04:27.346014Z",
     "start_time": "2021-03-29T13:04:27.333866Z"
    }
   },
   "outputs": [],
   "source": [
    "def jaccard_score(preds, labels, C, EMPTY=1., ignore=None, per_image=False):\n",
    "    \"\"\"\n",
    "    Array of IoU for each (non ignored) class\n",
    "    \"\"\"\n",
    "    if not per_image:\n",
    "        preds, labels = (preds,), (labels,)\n",
    "    ious = []\n",
    "    for pred, label in zip(preds, labels):\n",
    "        iou = []\n",
    "        for i in range(C):\n",
    "            if i != ignore: # The ignored label is sometimes among predicted classes (ENet - CityScapes)\n",
    "                intersection = ((label == i) & (pred == i)).sum()\n",
    "                union = ((label == i) | ((pred == i) & (label != ignore))).sum()\n",
    "                if not union:\n",
    "                    iou.append(EMPTY)\n",
    "                else:\n",
    "                    iou.append(float(intersection) / union)\n",
    "        ious.append(iou)\n",
    "    ious = map(np.mean, zip(*ious)) # mean accross images if per_image\n",
    "    return np.array(tuple(ious))"
   ]
  },
  {
   "cell_type": "code",
   "execution_count": null,
   "metadata": {
    "ExecuteTime": {
     "end_time": "2021-03-29T13:04:27.784312Z",
     "start_time": "2021-03-29T13:04:27.697193Z"
    }
   },
   "outputs": [],
   "source": [
    "iou = jaccard_score(np.array([pred_mask]), np.array([true_mask]), C=2, EMPTY=0, per_image=False)\n",
    "\n",
    "print('Mean IoU:', iou)\n",
    "# print('Dice per channel:', all_dice)"
   ]
  },
  {
   "cell_type": "markdown",
   "metadata": {
    "tags": []
   },
   "source": [
    "# Naive Bayes Classifier\n",
    "\n",
    "Воспользуемся моделью наивного байесовского классификатора для сегментации - воспользуемся постановкой задачи, что требуется классифицировать каждый пиксель."
   ]
  },
  {
   "cell_type": "code",
   "execution_count": null,
   "metadata": {},
   "outputs": [],
   "source": [
    "path = \"img/test2-mini.jpg\"\n",
    "arr = skimage.io.imread(path)\n",
    "\n",
    "plot_one_image(arr)"
   ]
  },
  {
   "cell_type": "markdown",
   "metadata": {},
   "source": [
    "## Формируем обучающую выборку"
   ]
  },
  {
   "cell_type": "code",
   "execution_count": null,
   "metadata": {},
   "outputs": [],
   "source": [
    "# априорная информация\n",
    "paths = [\"img/Sky.jpg\", \"img/Road.jpg\", \"img/Grass.jpg\"]\n",
    "initial_probability = {\"img/Sky.jpg\": 0.30, \"img/Road.jpg\": 0.20, \"img/Grass.jpg\": 0.50}\n",
    "\n",
    "# сохраняем результаты расчета априорной информации\n",
    "number_of_pixels = arr.size\n",
    "class_info = []\n",
    "\n",
    "for path in paths:\n",
    "    tmp_arr = skimage.io.imread(path)\n",
    " \n",
    "    # расчет распределения признака № 1 (значения пикселя - RGB)\n",
    "    class_mean = np.array([np.mean(tmp_arr[..., i]) for i in range(3)])\n",
    "    class_var = np.array([np.var(tmp_arr[..., i]) for i in range(3)])\n",
    "    \n",
    "    # априорная вероятность класса\n",
    "    class_freq = len(tmp_arr)\n",
    "    class_probabilty = class_freq / number_of_pixels \n",
    "    \n",
    "    class_info.append([initial_probability[path], class_mean, class_var])\n",
    "\n",
    "print(\"class_info\")\n",
    "print(class_info)"
   ]
  },
  {
   "cell_type": "markdown",
   "metadata": {},
   "source": [
    "## Строим модель"
   ]
  },
  {
   "cell_type": "code",
   "execution_count": null,
   "metadata": {},
   "outputs": [],
   "source": [
    "# многомерное распеределение Гаусса\n",
    "from scipy.stats import multivariate_normal"
   ]
  },
  {
   "cell_type": "code",
   "execution_count": null,
   "metadata": {},
   "outputs": [],
   "source": [
    "def naive_bayes_predict (arr, class_info, fixed_pixels_index=[], correct_arr = []):\n",
    "    predict_array = np.zeros((len(arr), len(arr[0])), dtype=float)\n",
    "    \n",
    "    class_color = [0, 127, 255]  # цвет класса для отображения\n",
    "    \n",
    "    # попиксельная классификация\n",
    "    for i in range(0, len(arr)):\n",
    "        for j in range(0, len(arr[0])): \n",
    "            if (len(fixed_pixels_index) > 0 and len(correct_arr) > 0 and fixed_pixels_index[i][j] == 1):\n",
    "                predict_array[i][j] = correct_arr[i][j]\n",
    "                continue\n",
    "                \n",
    "            max_probabilty = 0\n",
    "            best_class = -1\n",
    "            val = arr[i][j]  # текущее значение пикселя\n",
    "            \n",
    "            # проверить вероятность для каждого класса и выбрать наиболее вероятнный\n",
    "            for cls_index in range(len(class_info)):\n",
    "                cls_p = class_info[cls_index][0]  # априорная вероятность\n",
    "                mean = class_info[cls_index][1]  # среднее признака \n",
    "                var = class_info[cls_index][2]  # вариация признака\n",
    "\n",
    "\n",
    "                pos = multivariate_normal.pdf(val, mean, var)  # вероятность \n",
    "                cls_posterior = cls_p * pos\n",
    "\n",
    "                if (cls_posterior > max_probabilty):\n",
    "                    max_probabilty = cls_posterior\n",
    "                    best_class = cls_index\n",
    "            \n",
    "            predict_array[i][j] = class_color[best_class]\n",
    "            \n",
    "    return predict_array"
   ]
  },
  {
   "cell_type": "code",
   "execution_count": null,
   "metadata": {},
   "outputs": [],
   "source": [
    "# расчет\n",
    "initial_arr = naive_bayes_predict(arr, class_info)"
   ]
  },
  {
   "cell_type": "code",
   "execution_count": null,
   "metadata": {},
   "outputs": [],
   "source": [
    "plot_transform_result(arr, initial_arr)"
   ]
  },
  {
   "cell_type": "code",
   "execution_count": null,
   "metadata": {},
   "outputs": [],
   "source": []
  },
  {
   "cell_type": "code",
   "execution_count": null,
   "metadata": {},
   "outputs": [],
   "source": []
  }
 ],
 "metadata": {
  "hide_input": false,
  "kernelspec": {
   "display_name": "Python 3 (ipykernel)",
   "language": "python",
   "name": "python3"
  },
  "language_info": {
   "codemirror_mode": {
    "name": "ipython",
    "version": 3
   },
   "file_extension": ".py",
   "mimetype": "text/x-python",
   "name": "python",
   "nbconvert_exporter": "python",
   "pygments_lexer": "ipython3",
   "version": "3.8.10"
  },
  "latex_envs": {
   "LaTeX_envs_menu_present": true,
   "autoclose": false,
   "autocomplete": true,
   "bibliofile": "biblio.bib",
   "cite_by": "apalike",
   "current_citInitial": 1,
   "eqLabelWithNumbers": true,
   "eqNumInitial": 1,
   "hotkeys": {
    "equation": "Ctrl-E",
    "itemize": "Ctrl-I"
   },
   "labels_anchors": false,
   "latex_user_defs": false,
   "report_style_numbering": false,
   "user_envs_cfg": false
  },
  "toc": {
   "base_numbering": 1,
   "nav_menu": {},
   "number_sections": true,
   "sideBar": true,
   "skip_h1_title": false,
   "title_cell": "Table of Contents",
   "title_sidebar": "Contents",
   "toc_cell": false,
   "toc_position": {},
   "toc_section_display": true,
   "toc_window_display": true
  },
  "varInspector": {
   "cols": {
    "lenName": 16,
    "lenType": 16,
    "lenVar": 40
   },
   "kernels_config": {
    "python": {
     "delete_cmd_postfix": "",
     "delete_cmd_prefix": "del ",
     "library": "var_list.py",
     "varRefreshCmd": "print(var_dic_list())"
    },
    "r": {
     "delete_cmd_postfix": ") ",
     "delete_cmd_prefix": "rm(",
     "library": "var_list.r",
     "varRefreshCmd": "cat(var_dic_list()) "
    }
   },
   "types_to_exclude": [
    "module",
    "function",
    "builtin_function_or_method",
    "instance",
    "_Feature"
   ],
   "window_display": false
  }
 },
 "nbformat": 4,
 "nbformat_minor": 4
}
